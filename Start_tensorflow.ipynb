{
 "cells": [
  {
   "cell_type": "code",
   "execution_count": 2,
   "metadata": {},
   "outputs": [
    {
     "name": "stderr",
     "output_type": "stream",
     "text": [
      "C:\\Users\\User\\Anaconda3\\envs\\tensorflow-gpu\\lib\\site-packages\\tensorflow\\python\\framework\\dtypes.py:523: FutureWarning: Passing (type, 1) or '1type' as a synonym of type is deprecated; in a future version of numpy, it will be understood as (type, (1,)) / '(1,)type'.\n",
      "  _np_qint8 = np.dtype([(\"qint8\", np.int8, 1)])\n",
      "C:\\Users\\User\\Anaconda3\\envs\\tensorflow-gpu\\lib\\site-packages\\tensorflow\\python\\framework\\dtypes.py:524: FutureWarning: Passing (type, 1) or '1type' as a synonym of type is deprecated; in a future version of numpy, it will be understood as (type, (1,)) / '(1,)type'.\n",
      "  _np_quint8 = np.dtype([(\"quint8\", np.uint8, 1)])\n",
      "C:\\Users\\User\\Anaconda3\\envs\\tensorflow-gpu\\lib\\site-packages\\tensorflow\\python\\framework\\dtypes.py:525: FutureWarning: Passing (type, 1) or '1type' as a synonym of type is deprecated; in a future version of numpy, it will be understood as (type, (1,)) / '(1,)type'.\n",
      "  _np_qint16 = np.dtype([(\"qint16\", np.int16, 1)])\n",
      "C:\\Users\\User\\Anaconda3\\envs\\tensorflow-gpu\\lib\\site-packages\\tensorflow\\python\\framework\\dtypes.py:526: FutureWarning: Passing (type, 1) or '1type' as a synonym of type is deprecated; in a future version of numpy, it will be understood as (type, (1,)) / '(1,)type'.\n",
      "  _np_quint16 = np.dtype([(\"quint16\", np.uint16, 1)])\n",
      "C:\\Users\\User\\Anaconda3\\envs\\tensorflow-gpu\\lib\\site-packages\\tensorflow\\python\\framework\\dtypes.py:527: FutureWarning: Passing (type, 1) or '1type' as a synonym of type is deprecated; in a future version of numpy, it will be understood as (type, (1,)) / '(1,)type'.\n",
      "  _np_qint32 = np.dtype([(\"qint32\", np.int32, 1)])\n",
      "C:\\Users\\User\\Anaconda3\\envs\\tensorflow-gpu\\lib\\site-packages\\tensorflow\\python\\framework\\dtypes.py:532: FutureWarning: Passing (type, 1) or '1type' as a synonym of type is deprecated; in a future version of numpy, it will be understood as (type, (1,)) / '(1,)type'.\n",
      "  np_resource = np.dtype([(\"resource\", np.ubyte, 1)])\n"
     ]
    }
   ],
   "source": [
    "import tensorflow as tf"
   ]
  },
  {
   "cell_type": "code",
   "execution_count": 41,
   "metadata": {},
   "outputs": [
    {
     "name": "stdout",
     "output_type": "stream",
     "text": [
      "XW+b= [[ 0.16       -0.28000003]]\n",
      "[[0.16 0.  ]]\n",
      "[[0.5399149  0.43045375]]\n"
     ]
    }
   ],
   "source": [
    "X=tf.Variable([[0.4,0.2,0.4]])\n",
    "W=tf.Variable([[0.5,-0.2],\n",
    "              [0.7,-0.4],\n",
    "              [-0.7,-0.8]])\n",
    "\n",
    "#W=tf.Variable([[0.5,-0.2,0.4],\n",
    " #              [0.7,-0.4,-0.3]])\n",
    "\n",
    "b=tf.Variable([[0.1,0.2]])\n",
    "XWb=tf.matmul(X,W)+b\n",
    "#y=tf.nn.relu(tf.matmul(X,W)+b)\n",
    "y=tf.nn.relu(XWb)\n",
    "y_sigmoid=tf.nn.sigmoid(XWb)\n",
    "with tf.Session() as sess:\n",
    "    init=tf.global_variables_initializer()\n",
    "    sess.run(init)\n",
    "    print('XW+b=', sess.run(XWb ))\n",
    "    print(sess.run(y ))\n",
    "    print(sess.run(y_sigmoid))"
   ]
  },
  {
   "cell_type": "code",
   "execution_count": 39,
   "metadata": {
    "jupyter": {
     "source_hidden": true
    }
   },
   "outputs": [
    {
     "name": "stdout",
     "output_type": "stream",
     "text": [
      "W            = [[-2.5682783   1.4012161 ]\n",
      " [-1.9290981   0.28949186]\n",
      " [-2.348557   -0.81705874]]\n",
      "b            = [[1.4711212  0.28342083]]\n",
      "XW+b         = [[-0.88143265  0.57498217]]\n",
      "relu(WX+b)   = [[0.         0.57498217]]\n"
     ]
    }
   ],
   "source": [
    "W=tf.Variable(tf.random_normal([3,2]))\n",
    "b=tf.Variable(tf.random_normal([1,2]))\n",
    "X=tf.Variable([[0.4,0.2,0.4]])\n",
    "\n",
    "XWb=tf.matmul(X,W)+b\n",
    "y_relu=tf.nn.relu(XWb)\n",
    "\n",
    "with tf.Session() as sess:\n",
    "    init=tf.global_variables_initializer()\n",
    "    sess.run(init)\n",
    "    print('W            =',sess.run(W))\n",
    "    print('b            =',sess.run(b))\n",
    "    print('XW+b         =',sess.run(XWb ))\n",
    "    print('relu(WX+b)   =',sess.run(y_relu ))\n",
    "    (_w,_b,_y)=sess.run((W,b,y_relu))"
   ]
  },
  {
   "cell_type": "code",
   "execution_count": 53,
   "metadata": {},
   "outputs": [
    {
     "name": "stdout",
     "output_type": "stream",
     "text": [
      "X            = [[0.4 0.2 0.4]]\n",
      "W            = [[ 1.5144211   0.30739382]\n",
      " [-0.44152096  0.03681614]\n",
      " [-0.28127834 -0.9372949 ]]\n",
      "b            = [[-0.8392256   0.02095227]]\n",
      "XW+b         = [[-0.43427265 -0.22364493]]\n",
      "relu(XW+b)   = [[0. 0.]]\n",
      "sigmoid(XW+b)= [[0.39310652 0.44432062]]\n",
      "softmax(XW+b)= [[0.4475369 0.5524631]]\n"
     ]
    }
   ],
   "source": [
    "X=tf.Variable([[0.4,0.2,0.4]])\n",
    "W=tf.Variable(tf.random_normal([3,2]))\n",
    "b=tf.Variable(tf.random_normal([1,2]))\n",
    "XWb=tf.matmul(X,W)+b\n",
    "#y=tf.nn.relu(tf.matmul(X,W)+b)\n",
    "y=tf.nn.relu(XWb)\n",
    "y_sigmoid=tf.nn.sigmoid(XWb)\n",
    "y_softmax=tf.nn.softmax(XWb)\n",
    "with tf.Session() as sess:\n",
    "    init=tf.global_variables_initializer()\n",
    "    sess.run(init)\n",
    "    print('X            =',sess.run(X))\n",
    "    print('W            =',sess.run(W))\n",
    "    print('b            =',sess.run(b))\n",
    "    print('XW+b         =', sess.run(XWb ))\n",
    "    print('relu(XW+b)   =',sess.run(y))\n",
    "    print('sigmoid(XW+b)=',sess.run(y_sigmoid))\n",
    "    print('softmax(XW+b)=',sess.run(y_softmax))"
   ]
  },
  {
   "cell_type": "code",
   "execution_count": 61,
   "metadata": {},
   "outputs": [
    {
     "name": "stdout",
     "output_type": "stream",
     "text": [
      "X            = [[0.4 0.2 0.4]]\n",
      "W            = [[ 0.01398705 -0.03685138]\n",
      " [ 0.7739543   0.5397785 ]\n",
      " [ 1.1969593  -0.602258  ]]\n",
      "b            = [[ 0.958145   -0.24586351]]\n",
      "XWb          = [[ 1.5973144 -0.3935516]]\n",
      "Y-relu       = [[1.5973144 0.       ]]\n"
     ]
    }
   ],
   "source": [
    "X=tf.Variable([[0.4,0.2,0.4]])\n",
    "W=tf.Variable(tf.random_normal([3,2]))\n",
    "b=tf.Variable(tf.random_normal([1,2]))\n",
    "XWb=tf.matmul(X,W)+b\n",
    "#y=tf.nn.relu(tf.matmul(X,W)+b)\n",
    "y=tf.nn.relu(XWb)\n",
    "y_sigmoid=tf.nn.sigmoid(XWb)\n",
    "y_softmax=tf.nn.softmax(XWb)\n",
    "with tf.Session() as sess:\n",
    "    init=tf.global_variables_initializer()\n",
    "    sess.run(init)\n",
    "    (X,W,b,XWb,y)=sess.run((X,W,b,XWb,y))\n",
    "    print('X            =',X)\n",
    "    print('W            =',W)\n",
    "    print('b            =',b)\n",
    "    print('XWb          =',XWb)\n",
    "    print('Y-relu       =',y)"
   ]
  },
  {
   "cell_type": "code",
   "execution_count": 77,
   "metadata": {},
   "outputs": [
    {
     "name": "stdout",
     "output_type": "stream",
     "text": [
      "[ 0.2936394  -0.5952512   1.3175993  -0.99419117  2.456687    0.94036084\n",
      " -2.0326052   1.1218121  -1.7476802   0.01950309]\n"
     ]
    },
    {
     "data": {
      "image/png": "[encoded data removed]",
      "text/plain": [
       "<Figure size 432x288 with 1 Axes>"
      ]
     },
     "metadata": {
      "needs_background": "light"
     },
     "output_type": "display_data"
    }
   ],
   "source": [
    "tf_norm=tf.random_normal([10000])\n",
    "with tf.Session() as session:\n",
    "    norm_data=tf_norm.eval()\n",
    "print(norm_data[:10])\n",
    "\n",
    "import matplotlib.pyplot as plt\n",
    "plt.hist(norm_data)\n",
    "plt.show()"
   ]
  },
  {
   "cell_type": "code",
   "execution_count": 79,
   "metadata": {},
   "outputs": [
    {
     "name": "stdout",
     "output_type": "stream",
     "text": [
      "b= [[0.7770932 0.9347305]]\n",
      "W= [[ 0.38840255  0.36001486]\n",
      " [-0.5293204   1.5226792 ]\n",
      " [-0.7584296   0.23069508]]\n",
      "X= [[0.4 0.2 0.4]]\n",
      "y= [[0.5232183 1.4755503]]\n"
     ]
    }
   ],
   "source": [
    "import numpy as np\n",
    "\n",
    "W=tf.Variable(tf.random_normal([3,2]))\n",
    "b=tf.Variable(tf.random_normal([1,2]))\n",
    "X=tf.placeholder(\"float\",[None,3])\n",
    "y=tf.nn.relu(tf.matmul(X,W)+b)\n",
    "\n",
    "with tf.Session() as sess:\n",
    "    init=tf.global_variables_initializer()\n",
    "    sess.run(init)\n",
    "    X_array=np.array([[0.4,0.2,0.4]])\n",
    "    (b,W,X,y)=sess.run((b,W,X,y),feed_dict={X:X_array})\n",
    "    print('b=',b)\n",
    "    print('W=',W)\n",
    "    print('X=',X)\n",
    "    print('y=',y)"
   ]
  },
  {
   "cell_type": "code",
   "execution_count": 82,
   "metadata": {},
   "outputs": [
    {
     "name": "stdout",
     "output_type": "stream",
     "text": [
      "b= [[ 0.46258605 -0.05428576]]\n",
      "W= [[-1.2040439 -0.6857168]\n",
      " [ 0.1541444  1.5650904]\n",
      " [ 1.3340673 -0.6337816]]\n",
      "X= [[ 0.4  0.2  0.4]\n",
      " [-0.2  0.8 -0.3]\n",
      " [-0.5 -0.4  0.6]]\n",
      "y= [[0.63307333 0.43313614]\n",
      " [0.60503525 0.82128304]\n",
      " [0.85856116 0.32789248]]\n"
     ]
    }
   ],
   "source": [
    "import numpy as np\n",
    "\n",
    "W=tf.Variable(tf.random_normal([3,2]))\n",
    "b=tf.Variable(tf.random_normal([1,2]))\n",
    "X=tf.placeholder(\"float\",[None,3])\n",
    "y=tf.nn.sigmoid(tf.matmul(X,W)+b)\n",
    "\n",
    "with tf.Session() as sess:\n",
    "    init=tf.global_variables_initializer()\n",
    "    sess.run(init)\n",
    "    X_array=np.array([[0.4,0.2,0.4],\n",
    "                     [-0.2,0.8,-0.3],\n",
    "                     [-0.5,-0.4,0.6]])\n",
    "    (b,W,X,y)=sess.run((b,W,X,y),feed_dict={X:X_array})\n",
    "    print('b=',b)\n",
    "    print('W=',W)\n",
    "    print('X=',X)\n",
    "    print('y=',y)"
   ]
  },
  {
   "cell_type": "code",
   "execution_count": 98,
   "metadata": {},
   "outputs": [],
   "source": [
    "def layer(input_dim, output_dim, input, activation=None):\n",
    "    W=tf.Variable(tf.random_normal([input_dim,output_dim]))\n",
    "    b=tf.Variable(tf.random_normal([1,output_dim]))\n",
    "    X=tf.placeholder(\"float\",[None,3])\n",
    "    XWb=tf.matmul(input,W)+b\n",
    "    if activation==None:\n",
    "        output=XWb\n",
    "    else:\n",
    "        output=activation(XWb)\n",
    "    \n",
    "    return output\n",
    "        "
   ]
  },
  {
   "cell_type": "code",
   "execution_count": 103,
   "metadata": {},
   "outputs": [
    {
     "name": "stdout",
     "output_type": "stream",
     "text": [
      "X= [[ 0.4   0.2   0.4   0.5 ]\n",
      " [-0.2   0.3  -0.4  -0.5 ]\n",
      " [ 0.6  -0.6  -0.2   0.85]]\n",
      "h= [[0.         0.         0.        ]\n",
      " [0.5150498  0.         0.        ]\n",
      " [2.4259028  0.177284   0.64816725]]\n",
      "y= [[ 0.20321962 -1.0427781 ]\n",
      " [-1.0380464  -1.4648888 ]\n",
      " [-5.471194   -3.103055  ]]\n"
     ]
    }
   ],
   "source": [
    "X=tf.placeholder(\"float\",[None,4])\n",
    "\n",
    "h=layer(input_dim=4,output_dim=3, input=X, activation=tf.nn.relu)\n",
    "y=layer(input_dim=3,output_dim=2, input=h)\n",
    "\n",
    "with tf.Session() as sess:\n",
    "    init=tf.global_variables_initializer()\n",
    "    sess.run(init)\n",
    "    X_array=np.array([[0.4,0.2,0.4,0.5],\n",
    "                     [-0.2,0.3,-0.4,-0.5],\n",
    "                     [0.6,-0.6,-0.2,0.85]])\n",
    "    (X,h,y)=sess.run((X,h,y),feed_dict={X:X_array})\n",
    "    print('X=',X)\n",
    "    print('h=',h)\n",
    "    print('y=',y)\n",
    "    "
   ]
  },
  {
   "cell_type": "code",
   "execution_count": 105,
   "metadata": {},
   "outputs": [],
   "source": [
    "#Create a layer function to simulate neural network with matrix functions\n",
    "def layer_debug(input_dim, output_dim, input, activation=None):\n",
    "    W=tf.Variable(tf.random_normal([input_dim,output_dim]))\n",
    "    b=tf.Variable(tf.random_normal([1,output_dim]))\n",
    "    X=tf.placeholder(\"float\",[None,3])\n",
    "    XWb=tf.matmul(input,W)+b\n",
    "    if activation==None:\n",
    "        output=XWb\n",
    "    else:\n",
    "        output=activation(XWb)\n",
    "    \n",
    "    return output,W,b\n",
    "        "
   ]
  },
  {
   "cell_type": "code",
   "execution_count": 109,
   "metadata": {},
   "outputs": [
    {
     "name": "stdout",
     "output_type": "stream",
     "text": [
      "X= [[ 0.4   0.2   0.4   0.5 ]\n",
      " [-0.2   0.3  -0.4  -0.5 ]\n",
      " [ 0.6  -0.6  -0.2   0.85]]\n",
      "------------------------------------------\n",
      "W1= [[-0.890977   -0.18510102 -0.05766594]\n",
      " [-0.22302274  1.7109559  -1.9346724 ]\n",
      " [ 0.13547428  1.5078138  -0.17107628]\n",
      " [ 0.626901    0.7258977   0.93072677]]\n",
      "b1= [[ 0.8784508  -0.00454396  0.7799625 ]]\n",
      "------------------------------------------\n",
      "h= [[0.84509563 1.2296811  0.76689446]\n",
      " [0.62209916 0.         0.        ]\n",
      " [0.98344916 0.         2.7314994 ]]\n",
      "------------------------------------------\n",
      "W2= [[-0.51627445  0.36333779]\n",
      " [ 1.07105    -0.6304273 ]\n",
      " [ 0.16939098  1.0574639 ]]\n",
      "b2= [[-0.3860109   0.09811983]]\n",
      "------------------------------------------\n",
      "y= [[ 0.62464285  0.44091365]\n",
      " [-0.7071848   0.32415196]\n",
      " [-0.43104917  3.343906  ]]\n"
     ]
    }
   ],
   "source": [
    "#use layer_debug function to build three layers of neural network,\n",
    "#and output Weight and bias of each layer\n",
    "\n",
    "X=tf.placeholder(\"float\",[None,4])\n",
    "\n",
    "h,W1,b1=layer_debug(input_dim=4,output_dim=3, input=X, activation=tf.nn.relu)\n",
    "y,W2,b2=layer_debug(input_dim=3,output_dim=2, input=h)\n",
    "\n",
    "with tf.Session() as sess:\n",
    "    init=tf.global_variables_initializer()\n",
    "    sess.run(init)\n",
    "    X_array=np.array([[0.4,0.2,0.4,0.5],\n",
    "                     [-0.2,0.3,-0.4,-0.5],\n",
    "                     [0.6,-0.6,-0.2,0.85]])\n",
    "    (X,h,y,W1,b1,W2,b2)=sess.run((X,h,y,W1,b1,W2,b2),feed_dict={X:X_array})\n",
    "    print('X=',X)\n",
    "    print('------------------------------------------')\n",
    "    print('W1=',W1)\n",
    "    print('b1=',b1)\n",
    "    print('------------------------------------------')\n",
    "    print('h=',h)\n",
    "    print('------------------------------------------')\n",
    "    print('W2=',W2)\n",
    "    print('b2=',b2)\n",
    "    print('------------------------------------------')\n",
    "    print('y=',y)"
   ]
  },
  {
   "cell_type": "code",
   "execution_count": null,
   "metadata": {},
   "outputs": [],
   "source": []
  }
 ],
 "metadata": {
  "kernelspec": {
   "display_name": "Python 3",
   "language": "python",
   "name": "python3"
  },
  "language_info": {
   "codemirror_mode": {
    "name": "ipython",
    "version": 3
   },
   "file_extension": ".py",
   "mimetype": "text/x-python",
   "name": "python",
   "nbconvert_exporter": "python",
   "pygments_lexer": "ipython3",
   "version": "3.6.9"
  }
 },
 "nbformat": 4,
 "nbformat_minor": 4
}
