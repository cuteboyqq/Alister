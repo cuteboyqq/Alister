{
 "cells": [
  {
   "cell_type": "code",
   "execution_count": 1,
   "metadata": {},
   "outputs": [],
   "source": [
    "import pickle\n",
    "import scipy\n",
    "from scipy.misc import imsave\n",
    "\n",
    "def load_file(filename):\n",
    "    with open(filename, 'rb') as fo:\n",
    "        data = pickle.load(fo, encoding='latin1')\n",
    "    return data"
   ]
  },
  {
   "cell_type": "code",
   "execution_count": 11,
   "metadata": {},
   "outputs": [],
   "source": [
    "#need to install pillow ,command is \"pip install pillow\"\n",
    "#downgrade the scipy version to below 1.2.1 , command is \"pip install scipy==1.2.1\""
   ]
  },
  {
   "cell_type": "code",
   "execution_count": 12,
   "metadata": {},
   "outputs": [
    {
     "name": "stdout",
     "output_type": "stream",
     "text": [
      "dict_keys(['batch_label', 'labels', 'data', 'filenames'])\n"
     ]
    }
   ],
   "source": [
    "data = load_file('C:/Users/User/.keras/datasets/cifar-10-batches-py/test_batch')\n",
    "print(data.keys())"
   ]
  },
  {
   "cell_type": "code",
   "execution_count": 13,
   "metadata": {},
   "outputs": [],
   "source": [
    "data_batch_1 = load_file('C:/Users/User/.keras/datasets/cifar-10-batches-py/data_batch_1')"
   ]
  },
  {
   "cell_type": "code",
   "execution_count": 16,
   "metadata": {},
   "outputs": [
    {
     "name": "stdout",
     "output_type": "stream",
     "text": [
      "dict_keys(['batch_label', 'labels', 'data', 'filenames'])\n"
     ]
    }
   ],
   "source": [
    "print(data_batch_1.keys())"
   ]
  },
  {
   "cell_type": "code",
   "execution_count": 17,
   "metadata": {},
   "outputs": [],
   "source": [
    "label_dictionary={0:\"airplan\",1:\"vehicle\",2:\"bird\",3:\"cat\",4:\"deer\",5:\"dog\",6:\"frog\",7:\"horse\",8:\"ship\",9:\"truck\"}"
   ]
  },
  {
   "cell_type": "code",
   "execution_count": 18,
   "metadata": {},
   "outputs": [],
   "source": [
    "from scipy.misc import imsave\n",
    "import numpy as np\n",
    "import pickle"
   ]
  },
  {
   "cell_type": "code",
   "execution_count": 19,
   "metadata": {},
   "outputs": [],
   "source": [
    "# 解壓縮，返回解壓後的字典\n",
    "def unpickle(file):\n",
    "    fo = open(file, 'rb')\n",
    "    dict = pickle.load(fo, encoding='latin1')\n",
    "    fo.close()\n",
    "    return dict"
   ]
  },
  {
   "cell_type": "code",
   "execution_count": 20,
   "metadata": {},
   "outputs": [
    {
     "name": "stdout",
     "output_type": "stream",
     "text": [
      "C:/Users/User/.keras/datasets/cifar-10-batches-py/data_batch_1 is loading...\n"
     ]
    },
    {
     "name": "stderr",
     "output_type": "stream",
     "text": [
      "C:\\Users\\User\\Anaconda3\\envs\\tensorflow-gpu\\lib\\site-packages\\ipykernel_launcher.py:13: DeprecationWarning: `imsave` is deprecated!\n",
      "`imsave` is deprecated in SciPy 1.0.0, and will be removed in 1.2.0.\n",
      "Use ``imageio.imwrite`` instead.\n",
      "  del sys.path[0]\n"
     ]
    },
    {
     "name": "stdout",
     "output_type": "stream",
     "text": [
      "C:/Users/User/.keras/datasets/cifar-10-batches-py/data_batch_1 loaded.\n",
      "C:/Users/User/.keras/datasets/cifar-10-batches-py/data_batch_2 is loading...\n",
      "C:/Users/User/.keras/datasets/cifar-10-batches-py/data_batch_2 loaded.\n",
      "C:/Users/User/.keras/datasets/cifar-10-batches-py/data_batch_3 is loading...\n",
      "C:/Users/User/.keras/datasets/cifar-10-batches-py/data_batch_3 loaded.\n",
      "C:/Users/User/.keras/datasets/cifar-10-batches-py/data_batch_4 is loading...\n",
      "C:/Users/User/.keras/datasets/cifar-10-batches-py/data_batch_4 loaded.\n",
      "C:/Users/User/.keras/datasets/cifar-10-batches-py/data_batch_5 is loading...\n",
      "C:/Users/User/.keras/datasets/cifar-10-batches-py/data_batch_5 loaded.\n",
      "test_batch is loading...\n"
     ]
    }
   ],
   "source": [
    "# 生成訓練集圖片，如果需要png格式，只需要改圖片字尾名即可。\n",
    "for j in range(1, 6):\n",
    "    dataName = \"C:/Users/User/.keras/datasets/cifar-10-batches-py/data_batch_\" + str(j)  # 讀取當前目錄下的data_batch12345檔案，dataName其實也是data_batch檔案的路徑，本文和指令碼檔案在同一目錄下。\n",
    "    dataDir = \"C:/Users/User/.keras/datasets/cifar-10-batches-py/train-2019-12-03\"\n",
    "    Xtr = unpickle(dataName)\n",
    "    print(dataName + \" is loading...\")\n",
    "\n",
    "    for i in range(0, 10000):\n",
    "        img = np.reshape(Xtr['data'][i], (3, 32, 32))  # Xtr['data']為圖片二進位制資料\n",
    "        img = img.transpose(1, 2, 0)  # 讀取image\n",
    "        label_folder=str(Xtr['labels'][i])\n",
    "        picName = dataDir+'/'+label_folder+'/'+ str(Xtr['labels'][i]) + '_' + str(i + (j - 1)*10000) + '.jpg'  # Xtr['labels']為圖片的標籤，值範圍0-9，本文中，train資料夾需要存在，並與指令碼檔案在同一目錄下。  \n",
    "        imsave(picName, img)\n",
    "        #print(picName)\n",
    "        #imageio.imwrite(picNam,img)\n",
    "    print(dataName + \" loaded.\")\n",
    "\n",
    "print(\"test_batch is loading...\")"
   ]
  },
  {
   "cell_type": "code",
   "execution_count": 22,
   "metadata": {},
   "outputs": [
    {
     "name": "stdout",
     "output_type": "stream",
     "text": [
      "C:/Users/User/.keras/datasets/cifar-10-batches-py/test_batch is loading...\n"
     ]
    },
    {
     "name": "stderr",
     "output_type": "stream",
     "text": [
      "C:\\Users\\User\\Anaconda3\\envs\\tensorflow-gpu\\lib\\site-packages\\ipykernel_launcher.py:12: DeprecationWarning: `imsave` is deprecated!\n",
      "`imsave` is deprecated in SciPy 1.0.0, and will be removed in 1.2.0.\n",
      "Use ``imageio.imwrite`` instead.\n",
      "  if sys.path[0] == '':\n"
     ]
    },
    {
     "name": "stdout",
     "output_type": "stream",
     "text": [
      "C:/Users/User/.keras/datasets/cifar-10-batches-py/test_batch loaded.\n"
     ]
    }
   ],
   "source": [
    "dataName_test = \"C:/Users/User/.keras/datasets/cifar-10-batches-py/test_batch\" # 讀取當前目錄下的data_batch12345檔案，dataName其實也是data_batch檔案的路徑，本文和指令碼檔案在同一目錄下。\n",
    "dataDir_test = \"C:/Users/User/.keras/datasets/cifar-10-batches-py/validation-2019-12-03/\"\n",
    "Xtr = unpickle(dataName_test)\n",
    "print(dataName_test + \" is loading...\")\n",
    "\n",
    "for i in range(0, 10000):\n",
    "    img_test = np.reshape(Xtr['data'][i], (3, 32, 32))  # Xtr['data']為圖片二進位制資料\n",
    "    img_test = img_test.transpose(1, 2, 0)  # 讀取image\n",
    "    label_folder_test=str(Xtr['labels'][i])\n",
    "    picName_test = dataDir_test+'/'+label_folder_test+'/'+ str(Xtr['labels'][i]) + '_' + str(i) + '.jpg'  # Xtr['labels']為圖片的標籤，值範圍0-9，本文中，train資料夾需要存在，並與指令碼檔案在同一目錄下。\n",
    "    #picName_test = dataDir_test+'/'+label_dictionary[label_folder_test]+'/'+ str(Xtr['labels'][i]) + '_' + str(i) + '.jpg'\n",
    "    imsave(picName_test, img_test)\n",
    "    #print(picName)\n",
    "print(dataName_test + \" loaded.\")"
   ]
  },
  {
   "cell_type": "code",
   "execution_count": 16,
   "metadata": {},
   "outputs": [
    {
     "data": {
      "text/plain": [
       "'dog'"
      ]
     },
     "execution_count": 16,
     "metadata": {},
     "output_type": "execute_result"
    }
   ],
   "source": [
    "label_dictionary[5]"
   ]
  },
  {
   "cell_type": "code",
   "execution_count": null,
   "metadata": {},
   "outputs": [],
   "source": []
  }
 ],
 "metadata": {
  "kernelspec": {
   "display_name": "Python 3",
   "language": "python",
   "name": "python3"
  },
  "language_info": {
   "codemirror_mode": {
    "name": "ipython",
    "version": 3
   },
   "file_extension": ".py",
   "mimetype": "text/x-python",
   "name": "python",
   "nbconvert_exporter": "python",
   "pygments_lexer": "ipython3",
   "version": "3.6.9"
  }
 },
 "nbformat": 4,
 "nbformat_minor": 4
}
